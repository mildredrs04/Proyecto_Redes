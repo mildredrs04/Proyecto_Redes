{
  "cells": [
    {
      "cell_type": "markdown",
      "metadata": {
        "id": "view-in-github",
        "colab_type": "text"
      },
      "source": [
        "<a href=\"https://colab.research.google.com/github/mildredrs04/Proyecto_Redes/blob/main/Copia_de_sklearn_lin_reg_diabetes.ipynb\" target=\"_parent\"><img src=\"https://colab.research.google.com/assets/colab-badge.svg\" alt=\"Open In Colab\"/></a>"
      ]
    },
    {
      "cell_type": "code",
      "source": [
        "#Session 1: framework and misc\n",
        "#Name: Mildred Ramírez\n",
        "#ID: A01705162\n",
        "#Date: 06/03/2023\n",
        "import matplotlib.pyplot as plt\n",
        "import numpy as np\n",
        "import pandas as pd\n",
        "from sklearn import datasets, linear_model\n",
        "from sklearn.metrics import mean_squared_error, r2_score\n",
        "from sklearn.model_selection import train_test_split "
      ],
      "metadata": {
        "id": "GslqdY7jzalA"
      },
      "execution_count": 21,
      "outputs": []
    },
    {
      "cell_type": "code",
      "execution_count": 1,
      "metadata": {
        "colab": {
          "base_uri": "https://localhost:8080/"
        },
        "id": "fsRfppr8CRdu",
        "outputId": "efe36993-f6b3-47fb-cfd5-b7d3ee6dc0b8"
      },
      "outputs": [
        {
          "output_type": "stream",
          "name": "stdout",
          "text": [
            "Mounted at /content/gdrive\n",
            "/content\n"
          ]
        }
      ],
      "source": [
        "from google.colab import drive\n",
        "\n",
        "drive.mount(\"/content/gdrive\", force_remount=True)\n",
        "!pwd"
      ]
    },
    {
      "cell_type": "code",
      "execution_count": 2,
      "metadata": {
        "colab": {
          "base_uri": "https://localhost:8080/"
        },
        "id": "3HE2X9-ti_fF",
        "outputId": "ff714212-8181-4c10-f3cd-f5c4de99b8d3"
      },
      "outputs": [
        {
          "output_type": "stream",
          "name": "stdout",
          "text": [
            "/content/gdrive/MyDrive/Intelligent Systems\n",
            "'Copia de sklearn lin reg diabetes.ipynb'   flaredata2.xlsx\n",
            " ENB2012_data.xlsx\t\t\t    flare.names\n",
            " flare.data1\t\t\t\t   'Life Expectancy Data.csv'\n",
            " flare.data2\t\t\t\t    melb_data.csv\n",
            " flaredata2.csv\t\t\t\t   'sklearn lin reg diabetes.ipynb'\n"
          ]
        }
      ],
      "source": [
        "%cd \"/content/gdrive/MyDrive/Intelligent Systems\"\n",
        "!ls"
      ]
    },
    {
      "cell_type": "code",
      "execution_count": null,
      "metadata": {
        "id": "4c91hMgyqmXF"
      },
      "outputs": [],
      "source": []
    },
    {
      "cell_type": "code",
      "execution_count": 11,
      "metadata": {
        "colab": {
          "base_uri": "https://localhost:8080/",
          "height": 296
        },
        "id": "D-a__v_-kHEV",
        "outputId": "23f194b5-9fe2-4801-a1c8-d4a1e03cca6c"
      },
      "outputs": [
        {
          "output_type": "execute_result",
          "data": {
            "text/plain": [
              "<AxesSubplot:xlabel='Income composition of resources', ylabel='Life expectancy'>"
            ]
          },
          "metadata": {},
          "execution_count": 11
        },
        {
          "output_type": "display_data",
          "data": {
            "text/plain": [
              "<Figure size 432x288 with 1 Axes>"
            ],
            "image/png": "[encoded data removed]"
          },
          "metadata": {
            "needs_background": "light"
          }
        }
      ],
      "source": [
        "#Load dataset\n",
        "df = pd.read_csv('Life Expectancy Data.csv')\n",
        "df.columns = [\"Country\",\"Year\",\"Status\", \"Life expectancy\", \"Adult Mortality\", \"infant deaths\", \"Alcohol\", \"percentage expenditure\", \"Hepatitis B\", \"Measles\", \"BMI\", \"under-five deaths\", \"Polio\", \"Total expenditure\", \"Diphteria\", \"HIV/AIDS\", \"GDP\", \"Population\", \"thinnes 1-19 years\", \"thinnes 5-9 years\", \"Income composition of resources\", \"Schooling\"]\n",
        "\n",
        "#Name columns\n",
        "df_x = df[[\"Country\",\"Year\",\"Status\",\"Adult Mortality\", \"infant deaths\", \"Alcohol\", \"percentage expenditure\", \"Hepatitis B\", \"Measles\", \"BMI\", \"under-five deaths\", \"Polio\", \"Total expenditure\", \"Diphteria\", \"HIV/AIDS\", \"GDP\", \"Population\", \"thinnes 1-19 years\", \"thinnes 5-9 years\", \"Income composition of resources\", \"Schooling\"]]\n",
        "df_y = df[[\"Life expectancy\"]]\n",
        "\n",
        "#df.drop(df.index[0], inplace=True)\n",
        "df = df.dropna()\n",
        "df\n",
        "\n",
        "#df.describe()\n",
        "#pd.plotting.scatter_matrix(df)\n",
        "df.plot('Income composition of resources', 'Life expectancy', kind ='scatter')\n"
      ]
    },
    {
      "cell_type": "code",
      "source": [
        "#Using only one feature\n",
        "X = df[[\"Income composition of resources\"]]\n",
        "y = df[[\"Life expectancy\"]]"
      ],
      "metadata": {
        "id": "gjbpwH-Muk5Y"
      },
      "execution_count": 12,
      "outputs": []
    },
    {
      "cell_type": "code",
      "execution_count": 13,
      "metadata": {
        "id": "jznNeMwie3C3"
      },
      "outputs": [],
      "source": [
        "#Split dataset into train and test set\n",
        "X_train, X_test, y_train, y_test = train_test_split(X, y, test_size=0.2, random_state=0)\n"
      ]
    },
    {
      "cell_type": "code",
      "execution_count": 17,
      "metadata": {
        "colab": {
          "base_uri": "https://localhost:8080/"
        },
        "id": "nRcUJwqNe8te",
        "outputId": "871505ac-602a-41b4-8736-a4443e7df287"
      },
      "outputs": [
        {
          "output_type": "stream",
          "name": "stdout",
          "text": [
            "[47.98436826]\n",
            "[[33.81857118]]\n",
            "Train Mean squared error: 37.48\n",
            "Train Coefficient of determination: 0.50\n",
            "Test Mean squared error: 35.96\n",
            "Test Coefficient of determination: 0.57\n"
          ]
        }
      ],
      "source": [
        "# Create linear regression object\n",
        "regression = linear_model.LinearRegression()\n",
        "\n",
        "# Train the model using the training sets\n",
        "regression.fit(X_train, y_train)\n",
        "\n",
        "# Make predictions using the testing set\n",
        "y_pred = regression.predict(X_test)\n",
        "\n",
        "#To retrieve the intercept:\n",
        "print(regression.intercept_)\n",
        "\n",
        "#For retrieving the slope:\n",
        "print(regression.coef_)\n",
        "\n",
        "# The mean squared error\n",
        "pred_train = regression.predict(X_train)\n",
        "print('Train Mean squared error: %.2f'\n",
        "      % mean_squared_error(y_train, pred_train ))\n",
        "# The coefficient of determination: 1 is perfect prediction\n",
        "print('Train Coefficient of determination: %.2f'\n",
        "      % r2_score(y_train, pred_train))\n",
        "\n",
        "# The mean squared error\n",
        "print('Test Mean squared error: %.2f'\n",
        "      % mean_squared_error(y_test, y_pred))\n",
        "# The coefficient of determination: 1 is perfect prediction\n",
        "print('Test Coefficient of determination: %.2f'\n",
        "      % r2_score(y_test, y_pred))\n",
        "\n"
      ]
    },
    {
      "cell_type": "code",
      "execution_count": 19,
      "metadata": {
        "colab": {
          "base_uri": "https://localhost:8080/",
          "height": 295
        },
        "id": "oacKakGKe9tB",
        "outputId": "55aba7a9-0df4-4396-d531-d022572c591f"
      },
      "outputs": [
        {
          "output_type": "display_data",
          "data": {
            "text/plain": [
              "<Figure size 432x288 with 1 Axes>"
            ],
            "image/png": "[encoded data removed]"
          },
          "metadata": {
            "needs_background": "light"
          }
        }
      ],
      "source": [
        "# Plot outputs\n",
        "plt.scatter(X_test, y_test,  color='blue')\n",
        "plt.plot(X_test, y_pred, color='red', linewidth=3)\n",
        "plt.title('Life expectancy using linear regression')  \n",
        "plt.xlabel('Income composition of resources')  \n",
        "plt.ylabel('Life expectancy') \n",
        "\n",
        "#plt.xticks(())\n",
        "#plt.yticks(())\n",
        "plt.show()"
      ]
    },
    {
      "cell_type": "code",
      "execution_count": 20,
      "metadata": {
        "id": "Q_ppU8qw-YoA",
        "colab": {
          "base_uri": "https://localhost:8080/"
        },
        "outputId": "93c4987d-aa56-4852-fe27-c4571db26f9a"
      },
      "outputs": [
        {
          "name": "stdout",
          "output_type": "stream",
          "text": [
            "Press 1 if you want to make a prediction1\n",
            "\n",
            "Enter the income composition of resources: 0.75\n"
          ]
        },
        {
          "output_type": "stream",
          "name": "stderr",
          "text": [
            "/usr/local/lib/python3.8/dist-packages/sklearn/base.py:420: UserWarning: X does not have valid feature names, but LinearRegression was fitted with feature names\n",
            "  warnings.warn(\n"
          ]
        },
        {
          "name": "stdout",
          "output_type": "stream",
          "text": [
            "\n",
            "The Life expectancy is:  [[73.34829665]]\n",
            "\n",
            "Press 1 to make another prediction, if not press 0: 0\n"
          ]
        }
      ],
      "source": [
        "#Interface\n",
        "value = input('Press 1 if you want to make a prediction')\n",
        "\n",
        "while value == '1':\n",
        "    income = input(\"\\nEnter the income composition of resources: \")\n",
        "    ft = np.expand_dims(np.array([income], dtype = 'float64'), axis=0)\n",
        "    \n",
        "    # Perform prediction\n",
        "    prediction = regression.predict(ft)\n",
        "    print(\"\\nThe Life expectancy is: \", prediction)\n",
        "\n",
        "    value = input(\"\\nPress 1 to make another prediction, if not press 0: \")"
      ]
    }
  ],
  "metadata": {
    "colab": {
      "provenance": [],
      "include_colab_link": true
    },
    "kernelspec": {
      "display_name": "Python 3",
      "name": "python3"
    }
  },
  "nbformat": 4,
  "nbformat_minor": 0
}